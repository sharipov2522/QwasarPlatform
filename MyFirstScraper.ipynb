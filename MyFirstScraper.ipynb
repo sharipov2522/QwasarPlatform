{
  "nbformat": 4,
  "nbformat_minor": 0,
  "metadata": {
    "colab": {
      "provenance": [],
      "authorship_tag": "ABX9TyMfieW11fcl8HkvHnRZZHp0",
      "include_colab_link": true
    },
    "kernelspec": {
      "name": "python3",
      "display_name": "Python 3"
    },
    "language_info": {
      "name": "python"
    }
  },
  "cells": [
    {
      "cell_type": "markdown",
      "metadata": {
        "id": "view-in-github",
        "colab_type": "text"
      },
      "source": [
        "<a href=\"https://colab.research.google.com/github/sharipov2522/QwasarPlatform/blob/main/MyFirstScraper.ipynb\" target=\"_parent\"><img src=\"https://colab.research.google.com/assets/colab-badge.svg\" alt=\"Open In Colab\"/></a>"
      ]
    },
    {
      "cell_type": "code",
      "execution_count": 1,
      "metadata": {
        "colab": {
          "base_uri": "https://localhost:8080/"
        },
        "id": "cNvpk2dv_2-j",
        "outputId": "ce451652-4539-4cef-f779-5429f2198c55"
      },
      "outputs": [
        {
          "output_type": "stream",
          "name": "stdout",
          "text": [
            "Developer, Repository Name, Number of Stars\n",
            "@nsarrazin, nsarrazin/serge, 480 stars today\n",
            "@madawei2699, madawei2699/myGPTReader, 529 stars today\n",
            "@dhh, mrsked/mrsk, 128 stars today\n",
            "@programthink, programthink/zhao, 165 stars today\n",
            "@BlinkDL, BlinkDL/RWKV-LM, 692 stars today\n",
            "@mckaywrigley, mckaywrigley/chatbot-ui, 643 stars today\n",
            "@LC1332, LC1332/Chinese-alpaca-lora, 184 stars today\n",
            "@romange, dragonflydb/dragonfly, 100 stars today\n",
            "@mabaochang, LianjiaTech/BELLE, 406 stars today\n",
            "@codebdy, codebdy/rxdrag, 34 stars today\n",
            "@Leizhenpeng, Leizhenpeng/feishu-chatgpt, 264 stars today\n",
            "@moyix, fauxpilot/fauxpilot, 415 stars today\n",
            "@deep-diver, deep-diver/Alpaca-LoRA-Serve, 143 stars today\n",
            "@laurmaedje, typst/typst, 1,499 stars today\n",
            "@programthink, programthink/books, 75 stars today\n",
            "@GaiZhenbiao, GaiZhenbiao/ChuanhuChatGPT, 676 stars today\n",
            "@fstrugar-nv, NVIDIAGameWorks/Path-Tracing-SDK, 111 stars today\n",
            "@evanw, evanw/thumbhash, 296 stars today\n",
            "@mayooear, mayooear/gpt4-pdf-chatbot-langchain, 621 stars today\n",
            "@ddobokki, ddobokki/chatgpt_stock_report, 24 stars today\n",
            "@anastasiya1155, BloopAI/bloop, 247 stars today\n",
            "@www, BlinkDL/ChatRWKV, 226 stars today\n",
            "@lukasHoel, lukasHoel/text2room, 92 stars today\n",
            "@vpj, labmlai/annotated_deep_learning_paper_implementations, 252 stars today\n",
            "@PlexPt, PlexPt/awesome-chatgpt-prompts-zh, 799 stars today\n"
          ]
        }
      ],
      "source": [
        "import requests\n",
        "from bs4 import BeautifulSoup\n",
        "\n",
        "def request_github_trending(url):\n",
        "    return requests.get(url)\n",
        "\n",
        "\n",
        "def extract(page):\n",
        "    soup = BeautifulSoup(page.text, \"html.parser\")\n",
        "    return soup.find_all(\"article\")\n",
        "\n",
        "def transform(html_repos):\n",
        "    result = []\n",
        "    for row in html_repos:\n",
        "        repository_name = ''.join(row.select_one('h1.h3.lh-condensed').text.split())\n",
        "        number_stars = ' '.join(row.select_one('span.d-inline-block.float-sm-right').text.split())\n",
        "        try:\n",
        "            NAME = row.select_one('img.avatar.mb-1.avatar-user')['alt']\n",
        "        except:\n",
        "            NAME = \"hidden_name\"\n",
        "        result.append({'developer': NAME, 'repository_name': repository_name, 'nbr_stars': number_stars}) \n",
        "   \n",
        "    return result\n",
        "\n",
        "def format(repositories_data):\n",
        "    result = [\"Developer, Repository Name, Number of Stars\"]\n",
        "    for repos in repositories_data:\n",
        "        row = [repos['developer'], repos['repository_name'], repos['nbr_stars']]\n",
        "        result.append(', '.join(row))\n",
        "    return \"\\n\".join(result)\n",
        "\n",
        "\n",
        "def _main():\n",
        "    url = \"https://github.com/trending\"\n",
        "    page = request_github_trending(url)\n",
        "    html_repos = extract(page)\n",
        "    repositories_data = transform(html_repos)\n",
        "    print(format(repositories_data))\n",
        "_main()"
      ]
    }
  ]
}